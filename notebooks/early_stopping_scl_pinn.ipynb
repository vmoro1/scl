{
 "cells": [
  {
   "cell_type": "code",
   "execution_count": 1,
   "metadata": {},
   "outputs": [],
   "source": [
    "import pickle as pkl\n",
    "\n",
    "import numpy as np\n",
    "import torch\n",
    "import matplotlib.pyplot as plt"
   ]
  },
  {
   "cell_type": "code",
   "execution_count": 25,
   "metadata": {},
   "outputs": [],
   "source": [
    "# path for loading\n",
    "path = '/Users/vigoro/SCL_cleaned_code/scl/saved/rd/2025-01-22 04:57:06_scl_m_rd'\n",
    "eps = 1e-2"
   ]
  },
  {
   "cell_type": "code",
   "execution_count": 3,
   "metadata": {},
   "outputs": [],
   "source": [
    "# load state dict\n",
    "with open(path + '/state_dict.pkl', 'rb') as f:\n",
    "    state_dict = pkl.load(f)\n",
    "\n",
    "pde_param = [key.split('_')[-1] for key in state_dict['Relative Error'].keys()][0]\n",
    "\n",
    "slacks = state_dict['slacks']['slack_0']\n",
    "primal_values = state_dict['primal_value']\n",
    "duality_gaps = state_dict['approximate_duality_gap']\n",
    "lagrangians = state_dict['Lagrangian']\n",
    "rel_errors = state_dict['Relative Error'][f'Relative Error_pde_param_{pde_param}']\n",
    "abs_errors = state_dict['Absolute Error'][f'Absolute Error_pde_param_{pde_param}']\n",
    "linf_errors = state_dict['linf Error'][f'linf Error_pde_param_{pde_param}']\n",
    "\n",
    "slacks = np.array(slacks)\n",
    "primal_values = np.array(primal_values)\n",
    "duality_gaps = np.array(duality_gaps)\n",
    "lagrangians = np.array(lagrangians)\n",
    "\n",
    "eval_every = 100\n",
    "epochs = 100000"
   ]
  },
  {
   "cell_type": "code",
   "execution_count": 4,
   "metadata": {},
   "outputs": [
    {
     "name": "stdout",
     "output_type": "stream",
     "text": [
      "Relative Error: 0.004739966670777934\n"
     ]
    }
   ],
   "source": [
    "# final epoch\n",
    "print(f'Relative Error: {rel_errors[-1]}')"
   ]
  },
  {
   "cell_type": "code",
   "execution_count": 26,
   "metadata": {},
   "outputs": [
    {
     "name": "stdout",
     "output_type": "stream",
     "text": [
      "Best feasible epoch: 90293\n",
      "Relative L2 error for best epoch: 0.010211016523212754\n"
     ]
    }
   ],
   "source": [
    "# feasible with smallest objective value\n",
    "\n",
    "# find best checkpoint based on feasibility (withing 1.1 eps but can be changed) plus small objective\n",
    "# slacks already incorporate eps so it's only less than 0.1 eps\n",
    "feasibility_mask = (slacks < 0.1 * eps)  \n",
    "\n",
    "# find the best feasible epoch based on the smallest primal value\n",
    "best_idx = np.argmin(primal_values[feasibility_mask]) if np.any(feasibility_mask) else None\n",
    "\n",
    "if best_idx is not None:\n",
    "    best_epoch = np.where(feasibility_mask)[0][best_idx]  # Get the actual epoch index\n",
    "    best_primal_value = primal_values[best_epoch]\n",
    "    \n",
    "    idx_errors = int(best_epoch / eval_every)\n",
    "    best_rel_l2_error = rel_errors[idx_errors]\n",
    "    best_abs_error = abs_errors[idx_errors]\n",
    "    best_linf_error = linf_errors[idx_errors]\n",
    "\n",
    "print(f'Best feasible epoch: {best_epoch}')\n",
    "print(f'Relative L2 error for best epoch: {best_rel_l2_error}')"
   ]
  },
  {
   "cell_type": "code",
   "execution_count": 28,
   "metadata": {},
   "outputs": [
    {
     "name": "stdout",
     "output_type": "stream",
     "text": [
      "Best feasible epoch after 80000: 90293\n",
      "Smallest feasible primal value: 1.3452599922914033e-08\n",
      "Relative L2 error for best epoch: 0.010211016523212754\n"
     ]
    }
   ],
   "source": [
    "# feasible with smallest objective value after a certain epoch\n",
    "\n",
    "# define the threshold epoch\n",
    "threshold_epoch = 80000\n",
    "\n",
    "# define feasibility criteria: slacks within 0.1 * eps\n",
    "feasibility_mask = (slacks < 0.1 * eps)\n",
    "\n",
    "# Ensure only epochs after the threshold are considered\n",
    "valid_indices = (np.arange(len(slacks)) >= threshold_epoch) & feasibility_mask\n",
    "\n",
    "# Find the best feasible epoch with the smallest primal value\n",
    "if np.any(valid_indices):  # Ensure there are valid feasible epochs\n",
    "    best_idx = np.argmin(primal_values[valid_indices])\n",
    "    best_epoch = np.where(valid_indices)[0][best_idx]  # Get the actual epoch index\n",
    "    best_primal_value = primal_values[best_epoch]\n",
    "\n",
    "    idx_errors = int(best_epoch / eval_every)\n",
    "    best_rel_l2_error = rel_errors[idx_errors]\n",
    "\n",
    "    print(f'Best feasible epoch after {threshold_epoch}: {best_epoch}')\n",
    "    print(f'Smallest feasible primal value: {best_primal_value}')\n",
    "    print(f'Relative L2 error for best epoch: {best_rel_l2_error}')\n",
    "else:\n",
    "    print(f'No feasible epochs found after {threshold_epoch}')\n",
    "\n"
   ]
  },
  {
   "cell_type": "code",
   "execution_count": 17,
   "metadata": {},
   "outputs": [],
   "source": [
    "# epochs_plot = np.arange(1, epochs + 1)\n",
    "# epochs_plot = epochs_plot[feasibility_mask]\n",
    "# primal_values_plot = primal_values[feasibility_mask]\n",
    "\n",
    "#  # plot\n",
    "# plt.figure()\n",
    "# plt.plot(epochs_plot, primal_values_plot)\n",
    "# plt.xlabel('Epoch')\n",
    "# plt.ylabel('Primal Value')"
   ]
  },
  {
   "cell_type": "code",
   "execution_count": 18,
   "metadata": {},
   "outputs": [],
   "source": [
    "# # plot slacks\n",
    "# plt.figure()\n",
    "# plt.plot(slacks)\n",
    "# plt.xlabel('Epoch')\n",
    "# plt.ylabel('Slack')"
   ]
  },
  {
   "cell_type": "code",
   "execution_count": 24,
   "metadata": {},
   "outputs": [],
   "source": [
    "# # plot lagrangians\n",
    "# plt.figure()\n",
    "# plt.plot(lagrangians)\n",
    "# plt.xlabel('Epoch')\n",
    "# plt.ylabel('Lagrangian')"
   ]
  },
  {
   "cell_type": "code",
   "execution_count": 21,
   "metadata": {},
   "outputs": [
    {
     "data": {
      "text/plain": [
       "Text(0, 0.5, 'Relative Error')"
      ]
     },
     "execution_count": 21,
     "metadata": {},
     "output_type": "execute_result"
    },
    {
     "data": {
      "image/png": "[encoded data removed]",
      "text/plain": [
       "<Figure size 640x480 with 1 Axes>"
      ]
     },
     "metadata": {},
     "output_type": "display_data"
    }
   ],
   "source": [
    "# plot relative errors\n",
    "epochs_plot = np.arange(0, epochs, eval_every) + 1\n",
    "plt.figure()\n",
    "plt.plot(epochs_plot, rel_errors)\n",
    "plt.xlabel('Epoch')\n",
    "plt.ylabel('Relative Error')"
   ]
  },
  {
   "cell_type": "code",
   "execution_count": null,
   "metadata": {},
   "outputs": [
    {
     "name": "stdout",
     "output_type": "stream",
     "text": [
      "Best epoch: 9057\n",
      "Smallest Lagrangian value: -0.0005489179166033864\n",
      "Relative L2 error for best epoch: 0.010790719965631017\n"
     ]
    }
   ],
   "source": [
    "# smallest lagrangian\n",
    "\n",
    "# Find the epoch with the smallest Lagrangian value and teh corresponding relative L2 error\n",
    "best_epoch = np.argmin(lagrangians)\n",
    "best_lagrangian_value = lagrangians[best_epoch]\n",
    "\n",
    "idx_errors = int(best_epoch / eval_every)\n",
    "best_rel_l2_error = rel_errors[idx_errors]\n",
    "\n",
    "print(f'Best epoch: {best_epoch}')\n",
    "print(f'Smallest Lagrangian value: {best_lagrangian_value}')\n",
    "print(f'Relative L2 error for best epoch: {best_rel_l2_error}')"
   ]
  },
  {
   "cell_type": "code",
   "execution_count": 22,
   "metadata": {},
   "outputs": [
    {
     "name": "stdout",
     "output_type": "stream",
     "text": [
      "Best epoch after 80000: 86131\n",
      "Smallest Lagrangian value: -0.0001744067412801087\n",
      "Relative L2 error for best epoch: 0.008343890842691878\n"
     ]
    }
   ],
   "source": [
    "# smallest Lagrangian after some threshold epoch\n",
    "\n",
    "# define the threshold epoch\n",
    "threshold_epoch = 80000\n",
    "\n",
    "# consider only epochs after the threshold\n",
    "valid_indices = np.arange(len(lagrangians)) >= threshold_epoch\n",
    "\n",
    "# find the best epoch with the smallest Lagrangian after the threshold\n",
    "if np.any(valid_indices):  # ensure there are valid epochs\n",
    "    best_idx = np.argmin(lagrangians[valid_indices])\n",
    "    best_epoch = np.where(valid_indices)[0][best_idx]  # Get the actual epoch index\n",
    "    best_lagrangian_value = lagrangians[best_epoch]\n",
    "\n",
    "    idx_errors = int(best_epoch / eval_every)\n",
    "    best_rel_l2_error = rel_errors[idx_errors]\n",
    "\n",
    "    print(f'Best epoch after {threshold_epoch}: {best_epoch}')\n",
    "    print(f'Smallest Lagrangian value: {best_lagrangian_value}')\n",
    "    print(f'Relative L2 error for best epoch: {best_rel_l2_error}')\n",
    "else:\n",
    "    print(f'No epochs found after {threshold_epoch}')\n"
   ]
  },
  {
   "cell_type": "code",
   "execution_count": null,
   "metadata": {},
   "outputs": [],
   "source": []
  }
 ],
 "metadata": {
  "kernelspec": {
   "display_name": "scl",
   "language": "python",
   "name": "python3"
  },
  "language_info": {
   "codemirror_mode": {
    "name": "ipython",
    "version": 3
   },
   "file_extension": ".py",
   "mimetype": "text/x-python",
   "name": "python",
   "nbconvert_exporter": "python",
   "pygments_lexer": "ipython3",
   "version": "3.11.11"
  }
 },
 "nbformat": 4,
 "nbformat_minor": 2
}
